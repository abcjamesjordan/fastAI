{
  "nbformat": 4,
  "nbformat_minor": 0,
  "metadata": {
    "colab": {
      "name": "BitcoinRansomware",
      "provenance": [],
      "collapsed_sections": [],
      "authorship_tag": "ABX9TyMgezwLofxYE14twPldp85+",
      "include_colab_link": true
    },
    "kernelspec": {
      "name": "python3",
      "display_name": "Python 3"
    },
    "accelerator": "GPU"
  },
  "cells": [
    {
      "cell_type": "markdown",
      "metadata": {
        "id": "view-in-github",
        "colab_type": "text"
      },
      "source": [
        "<a href=\"https://colab.research.google.com/github/abcjamesjordan/fastAI/blob/main/BitcoinRansomware.ipynb\" target=\"_parent\"><img src=\"https://colab.research.google.com/assets/colab-badge.svg\" alt=\"Open In Colab\"/></a>"
      ]
    },
    {
      "cell_type": "markdown",
      "metadata": {
        "id": "MhY_CVecHVUN"
      },
      "source": [
        "# Loading Colab and fastai\r\n",
        "Code that is required to setup colab for this project."
      ]
    },
    {
      "cell_type": "code",
      "metadata": {
        "id": "QeCinHiTEn8A"
      },
      "source": [
        "!pip install -Uqq fastbook\r\n",
        "import fastbook\r\n",
        "fastbook.setup_book()"
      ],
      "execution_count": 8,
      "outputs": []
    },
    {
      "cell_type": "code",
      "metadata": {
        "id": "XRgFFNBCFnk5"
      },
      "source": [
        "from fastbook import *\r\n",
        "from fastai.tabular.all import *"
      ],
      "execution_count": 9,
      "outputs": []
    },
    {
      "cell_type": "markdown",
      "metadata": {
        "id": "3rYiMGrXHhO1"
      },
      "source": [
        "# Importing the Data\r\n",
        "Here we import the data into a df for fast.ai to use."
      ]
    },
    {
      "cell_type": "code",
      "metadata": {
        "id": "sCNMupeNUKS1"
      },
      "source": [
        "import pandas as pd\r\n",
        "import numpy as np\r\n",
        "import datetime\r\n",
        "\r\n",
        "path = '/content/gdrive/MyDrive/Professional/Data Science/Data/BitcoinRansomware'\r\n",
        "\r\n",
        "df = pd.read_csv('/content/gdrive/MyDrive/Professional/Data Science/Data/BitcoinRansomware/BitcoinHeistData.csv')"
      ],
      "execution_count": 10,
      "outputs": []
    },
    {
      "cell_type": "code",
      "metadata": {
        "colab": {
          "base_uri": "https://localhost:8080/"
        },
        "id": "PxQJ-qjp5kf6",
        "outputId": "a1e584c9-72f5-45d4-ef0c-36b8a47efdf2"
      },
      "source": [
        "df.shape"
      ],
      "execution_count": 11,
      "outputs": [
        {
          "output_type": "execute_result",
          "data": {
            "text/plain": [
              "(2916697, 10)"
            ]
          },
          "metadata": {
            "tags": []
          },
          "execution_count": 11
        }
      ]
    },
    {
      "cell_type": "code",
      "metadata": {
        "colab": {
          "base_uri": "https://localhost:8080/",
          "height": 204
        },
        "id": "hD0s08MOHClj",
        "outputId": "59818856-9212-42e2-98f5-55780e903323"
      },
      "source": [
        "df.head()"
      ],
      "execution_count": 12,
      "outputs": [
        {
          "output_type": "execute_result",
          "data": {
            "text/html": [
              "<div>\n",
              "<style scoped>\n",
              "    .dataframe tbody tr th:only-of-type {\n",
              "        vertical-align: middle;\n",
              "    }\n",
              "\n",
              "    .dataframe tbody tr th {\n",
              "        vertical-align: top;\n",
              "    }\n",
              "\n",
              "    .dataframe thead th {\n",
              "        text-align: right;\n",
              "    }\n",
              "</style>\n",
              "<table border=\"1\" class=\"dataframe\">\n",
              "  <thead>\n",
              "    <tr style=\"text-align: right;\">\n",
              "      <th></th>\n",
              "      <th>address</th>\n",
              "      <th>year</th>\n",
              "      <th>day</th>\n",
              "      <th>length</th>\n",
              "      <th>weight</th>\n",
              "      <th>count</th>\n",
              "      <th>looped</th>\n",
              "      <th>neighbors</th>\n",
              "      <th>income</th>\n",
              "      <th>label</th>\n",
              "    </tr>\n",
              "  </thead>\n",
              "  <tbody>\n",
              "    <tr>\n",
              "      <th>0</th>\n",
              "      <td>111K8kZAEnJg245r2cM6y9zgJGHZtJPy6</td>\n",
              "      <td>2017</td>\n",
              "      <td>11</td>\n",
              "      <td>18</td>\n",
              "      <td>0.008333</td>\n",
              "      <td>1</td>\n",
              "      <td>0</td>\n",
              "      <td>2</td>\n",
              "      <td>100050000.0</td>\n",
              "      <td>princetonCerber</td>\n",
              "    </tr>\n",
              "    <tr>\n",
              "      <th>1</th>\n",
              "      <td>1123pJv8jzeFQaCV4w644pzQJzVWay2zcA</td>\n",
              "      <td>2016</td>\n",
              "      <td>132</td>\n",
              "      <td>44</td>\n",
              "      <td>0.000244</td>\n",
              "      <td>1</td>\n",
              "      <td>0</td>\n",
              "      <td>1</td>\n",
              "      <td>100000000.0</td>\n",
              "      <td>princetonLocky</td>\n",
              "    </tr>\n",
              "    <tr>\n",
              "      <th>2</th>\n",
              "      <td>112536im7hy6wtKbpH1qYDWtTyMRAcA2p7</td>\n",
              "      <td>2016</td>\n",
              "      <td>246</td>\n",
              "      <td>0</td>\n",
              "      <td>1.000000</td>\n",
              "      <td>1</td>\n",
              "      <td>0</td>\n",
              "      <td>2</td>\n",
              "      <td>200000000.0</td>\n",
              "      <td>princetonCerber</td>\n",
              "    </tr>\n",
              "    <tr>\n",
              "      <th>3</th>\n",
              "      <td>1126eDRw2wqSkWosjTCre8cjjQW8sSeWH7</td>\n",
              "      <td>2016</td>\n",
              "      <td>322</td>\n",
              "      <td>72</td>\n",
              "      <td>0.003906</td>\n",
              "      <td>1</td>\n",
              "      <td>0</td>\n",
              "      <td>2</td>\n",
              "      <td>71200000.0</td>\n",
              "      <td>princetonCerber</td>\n",
              "    </tr>\n",
              "    <tr>\n",
              "      <th>4</th>\n",
              "      <td>1129TSjKtx65E35GiUo4AYVeyo48twbrGX</td>\n",
              "      <td>2016</td>\n",
              "      <td>238</td>\n",
              "      <td>144</td>\n",
              "      <td>0.072848</td>\n",
              "      <td>456</td>\n",
              "      <td>0</td>\n",
              "      <td>1</td>\n",
              "      <td>200000000.0</td>\n",
              "      <td>princetonLocky</td>\n",
              "    </tr>\n",
              "  </tbody>\n",
              "</table>\n",
              "</div>"
            ],
            "text/plain": [
              "                              address  year  day  length    weight  count  \\\n",
              "0   111K8kZAEnJg245r2cM6y9zgJGHZtJPy6  2017   11      18  0.008333      1   \n",
              "1  1123pJv8jzeFQaCV4w644pzQJzVWay2zcA  2016  132      44  0.000244      1   \n",
              "2  112536im7hy6wtKbpH1qYDWtTyMRAcA2p7  2016  246       0  1.000000      1   \n",
              "3  1126eDRw2wqSkWosjTCre8cjjQW8sSeWH7  2016  322      72  0.003906      1   \n",
              "4  1129TSjKtx65E35GiUo4AYVeyo48twbrGX  2016  238     144  0.072848    456   \n",
              "\n",
              "   looped  neighbors       income            label  \n",
              "0       0          2  100050000.0  princetonCerber  \n",
              "1       0          1  100000000.0   princetonLocky  \n",
              "2       0          2  200000000.0  princetonCerber  \n",
              "3       0          2   71200000.0  princetonCerber  \n",
              "4       0          1  200000000.0   princetonLocky  "
            ]
          },
          "metadata": {
            "tags": []
          },
          "execution_count": 12
        }
      ]
    },
    {
      "cell_type": "code",
      "metadata": {
        "id": "w_TRw0QdH0f9"
      },
      "source": [
        "# Custom function to convert supplied dates to a proper pandas datetime format\r\n",
        "def compose_date(years, months=1, days=1, weeks=None, hours=None, minutes=None,\r\n",
        "                 seconds=None, milliseconds=None, microseconds=None, nanoseconds=None):\r\n",
        "    years = np.asarray(years) - 1970\r\n",
        "    months = np.asarray(months) - 1\r\n",
        "    days = np.asarray(days) - 1\r\n",
        "    types = ('<M8[Y]', '<m8[M]', '<m8[D]', '<m8[W]', '<m8[h]',\r\n",
        "             '<m8[m]', '<m8[s]', '<m8[ms]', '<m8[us]', '<m8[ns]')\r\n",
        "    vals = (years, months, days, weeks, hours, minutes, seconds,\r\n",
        "            milliseconds, microseconds, nanoseconds)\r\n",
        "    return sum(np.asarray(v, dtype=t) for t, v in zip(types, vals)\r\n",
        "               if v is not None)\r\n",
        "\r\n",
        "df['date'] = 0\r\n",
        "df['date'] = compose_date(df['year'], days=df['day'])"
      ],
      "execution_count": 13,
      "outputs": []
    },
    {
      "cell_type": "code",
      "metadata": {
        "id": "F3AuC0vcNTu5"
      },
      "source": [
        "# Change the label column to just legitimate and ransomware to keep the labels simple\r\n",
        "df['label_fix'] = 0\r\n",
        "df.loc[df['label'] == 'white', 'label_fix'] = 'legitimate'\r\n",
        "df.loc[df['label'] != 'white', 'label_fix'] = 'ransomware'\r\n",
        "df['label'] = df['label_fix']\r\n",
        "df = df.drop(columns=['label_fix'])"
      ],
      "execution_count": 14,
      "outputs": []
    },
    {
      "cell_type": "code",
      "metadata": {
        "id": "nwhvkWUZnDxz"
      },
      "source": [
        "# Add which business quarter the datetime is in as a feature\r\n",
        "df['quarter'] = df['date'].dt.quarter\r\n",
        "\r\n",
        "# Drop duplicate columns and use fastai date feature tool to extract more info from the datetime column\r\n",
        "# https://docs.fast.ai/tabular.core.html#add_datepart\r\n",
        "df = df.drop(columns=['year', 'day'])\r\n",
        "df = add_datepart(df, 'date')\r\n",
        "# need to change 'Week' column from UInt32 to int64\r\n",
        "df['Week'] = df['Week'].astype(np.int64)"
      ],
      "execution_count": 15,
      "outputs": []
    },
    {
      "cell_type": "code",
      "metadata": {
        "colab": {
          "base_uri": "https://localhost:8080/"
        },
        "id": "DzoFDRh52o9J",
        "outputId": "e79b503e-5320-40d1-ca14-d91699baa75f"
      },
      "source": [
        "# Seperate the dataframe so it can be properly reduced in size, while keeping all of the known ransomware examples\r\n",
        "df_original = df.copy()\r\n",
        "df_original_non_white = df_original.loc[df_original['label'] == 'ransomware']\r\n",
        "df_original_white = df_original.loc[df_original['label'] == 'legitimate'].sample(n=458587, random_state=42)\r\n",
        "print(df_original_white.shape, df_original_non_white.shape)\r\n",
        "\r\n",
        "# Concat the two dataframes into one\r\n",
        "frames = [df_original_non_white, df_original_white]\r\n",
        "df = pd.concat(frames)\r\n",
        "df = df.sample(frac=1)"
      ],
      "execution_count": 16,
      "outputs": [
        {
          "output_type": "stream",
          "text": [
            "(458587, 22) (41413, 22)\n"
          ],
          "name": "stdout"
        }
      ]
    },
    {
      "cell_type": "code",
      "metadata": {
        "id": "3wZW_nFf6MdT"
      },
      "source": [
        "# Create a test dataframe for later\r\n",
        "df_test = df_original.drop(df.index)\r\n",
        "df_test = df_test.sample(200000, random_state=42)"
      ],
      "execution_count": 19,
      "outputs": []
    },
    {
      "cell_type": "code",
      "metadata": {
        "colab": {
          "base_uri": "https://localhost:8080/",
          "height": 224
        },
        "id": "RS8ym9b5mmJW",
        "outputId": "55ba961e-c4e0-4426-b33e-d632ba6ab896"
      },
      "source": [
        "df.head()"
      ],
      "execution_count": 20,
      "outputs": [
        {
          "output_type": "execute_result",
          "data": {
            "text/html": [
              "<div>\n",
              "<style scoped>\n",
              "    .dataframe tbody tr th:only-of-type {\n",
              "        vertical-align: middle;\n",
              "    }\n",
              "\n",
              "    .dataframe tbody tr th {\n",
              "        vertical-align: top;\n",
              "    }\n",
              "\n",
              "    .dataframe thead th {\n",
              "        text-align: right;\n",
              "    }\n",
              "</style>\n",
              "<table border=\"1\" class=\"dataframe\">\n",
              "  <thead>\n",
              "    <tr style=\"text-align: right;\">\n",
              "      <th></th>\n",
              "      <th>address</th>\n",
              "      <th>length</th>\n",
              "      <th>weight</th>\n",
              "      <th>Week</th>\n",
              "      <th>count</th>\n",
              "      <th>looped</th>\n",
              "      <th>neighbors</th>\n",
              "      <th>income</th>\n",
              "      <th>label</th>\n",
              "      <th>quarter</th>\n",
              "      <th>Year</th>\n",
              "      <th>Month</th>\n",
              "      <th>Day</th>\n",
              "      <th>Dayofweek</th>\n",
              "      <th>Dayofyear</th>\n",
              "      <th>Is_month_end</th>\n",
              "      <th>Is_month_start</th>\n",
              "      <th>Is_quarter_end</th>\n",
              "      <th>Is_quarter_start</th>\n",
              "      <th>Is_year_end</th>\n",
              "      <th>Is_year_start</th>\n",
              "      <th>Elapsed</th>\n",
              "    </tr>\n",
              "  </thead>\n",
              "  <tbody>\n",
              "    <tr>\n",
              "      <th>434942</th>\n",
              "      <td>1jPySYK1yf5K7Jq5ukS5uunF88uo7NqCN</td>\n",
              "      <td>2</td>\n",
              "      <td>0.018610</td>\n",
              "      <td>6</td>\n",
              "      <td>63</td>\n",
              "      <td>0</td>\n",
              "      <td>1</td>\n",
              "      <td>1.000000e+08</td>\n",
              "      <td>legitimate</td>\n",
              "      <td>1</td>\n",
              "      <td>2012</td>\n",
              "      <td>2</td>\n",
              "      <td>8</td>\n",
              "      <td>2</td>\n",
              "      <td>39</td>\n",
              "      <td>False</td>\n",
              "      <td>False</td>\n",
              "      <td>False</td>\n",
              "      <td>False</td>\n",
              "      <td>False</td>\n",
              "      <td>False</td>\n",
              "      <td>1328659200</td>\n",
              "    </tr>\n",
              "    <tr>\n",
              "      <th>1370714</th>\n",
              "      <td>1M3J76yCDn3yx4gKDb59hVPqxsikctvzhL</td>\n",
              "      <td>144</td>\n",
              "      <td>0.000413</td>\n",
              "      <td>36</td>\n",
              "      <td>2185</td>\n",
              "      <td>1637</td>\n",
              "      <td>2</td>\n",
              "      <td>1.155372e+08</td>\n",
              "      <td>legitimate</td>\n",
              "      <td>3</td>\n",
              "      <td>2014</td>\n",
              "      <td>9</td>\n",
              "      <td>2</td>\n",
              "      <td>1</td>\n",
              "      <td>245</td>\n",
              "      <td>False</td>\n",
              "      <td>False</td>\n",
              "      <td>False</td>\n",
              "      <td>False</td>\n",
              "      <td>False</td>\n",
              "      <td>False</td>\n",
              "      <td>1409616000</td>\n",
              "    </tr>\n",
              "    <tr>\n",
              "      <th>332109</th>\n",
              "      <td>1DHPK9eXyH98eMmK2Kz6Pr7ADXSm6f1jjn</td>\n",
              "      <td>6</td>\n",
              "      <td>0.250000</td>\n",
              "      <td>43</td>\n",
              "      <td>30</td>\n",
              "      <td>0</td>\n",
              "      <td>1</td>\n",
              "      <td>6.000000e+07</td>\n",
              "      <td>legitimate</td>\n",
              "      <td>4</td>\n",
              "      <td>2011</td>\n",
              "      <td>10</td>\n",
              "      <td>28</td>\n",
              "      <td>4</td>\n",
              "      <td>301</td>\n",
              "      <td>False</td>\n",
              "      <td>False</td>\n",
              "      <td>False</td>\n",
              "      <td>False</td>\n",
              "      <td>False</td>\n",
              "      <td>False</td>\n",
              "      <td>1319760000</td>\n",
              "    </tr>\n",
              "    <tr>\n",
              "      <th>259877</th>\n",
              "      <td>1MF9Kx7FukSu8jq6eRLsnK8fyVapraAAHs</td>\n",
              "      <td>66</td>\n",
              "      <td>0.000031</td>\n",
              "      <td>33</td>\n",
              "      <td>1</td>\n",
              "      <td>0</td>\n",
              "      <td>2</td>\n",
              "      <td>7.913396e+09</td>\n",
              "      <td>legitimate</td>\n",
              "      <td>3</td>\n",
              "      <td>2011</td>\n",
              "      <td>8</td>\n",
              "      <td>17</td>\n",
              "      <td>2</td>\n",
              "      <td>229</td>\n",
              "      <td>False</td>\n",
              "      <td>False</td>\n",
              "      <td>False</td>\n",
              "      <td>False</td>\n",
              "      <td>False</td>\n",
              "      <td>False</td>\n",
              "      <td>1313539200</td>\n",
              "    </tr>\n",
              "    <tr>\n",
              "      <th>1135372</th>\n",
              "      <td>116EraDcGrwq9Ahgp8Pnq8muNG5i4BQzdp</td>\n",
              "      <td>44</td>\n",
              "      <td>0.686602</td>\n",
              "      <td>2</td>\n",
              "      <td>16</td>\n",
              "      <td>0</td>\n",
              "      <td>4</td>\n",
              "      <td>1.582407e+08</td>\n",
              "      <td>legitimate</td>\n",
              "      <td>1</td>\n",
              "      <td>2014</td>\n",
              "      <td>1</td>\n",
              "      <td>9</td>\n",
              "      <td>3</td>\n",
              "      <td>9</td>\n",
              "      <td>False</td>\n",
              "      <td>False</td>\n",
              "      <td>False</td>\n",
              "      <td>False</td>\n",
              "      <td>False</td>\n",
              "      <td>False</td>\n",
              "      <td>1389225600</td>\n",
              "    </tr>\n",
              "  </tbody>\n",
              "</table>\n",
              "</div>"
            ],
            "text/plain": [
              "                                    address  length    weight  Week  count  \\\n",
              "434942    1jPySYK1yf5K7Jq5ukS5uunF88uo7NqCN       2  0.018610     6     63   \n",
              "1370714  1M3J76yCDn3yx4gKDb59hVPqxsikctvzhL     144  0.000413    36   2185   \n",
              "332109   1DHPK9eXyH98eMmK2Kz6Pr7ADXSm6f1jjn       6  0.250000    43     30   \n",
              "259877   1MF9Kx7FukSu8jq6eRLsnK8fyVapraAAHs      66  0.000031    33      1   \n",
              "1135372  116EraDcGrwq9Ahgp8Pnq8muNG5i4BQzdp      44  0.686602     2     16   \n",
              "\n",
              "         looped  neighbors        income       label  quarter  Year  Month  \\\n",
              "434942        0          1  1.000000e+08  legitimate        1  2012      2   \n",
              "1370714    1637          2  1.155372e+08  legitimate        3  2014      9   \n",
              "332109        0          1  6.000000e+07  legitimate        4  2011     10   \n",
              "259877        0          2  7.913396e+09  legitimate        3  2011      8   \n",
              "1135372       0          4  1.582407e+08  legitimate        1  2014      1   \n",
              "\n",
              "         Day  Dayofweek  Dayofyear  Is_month_end  Is_month_start  \\\n",
              "434942     8          2         39         False           False   \n",
              "1370714    2          1        245         False           False   \n",
              "332109    28          4        301         False           False   \n",
              "259877    17          2        229         False           False   \n",
              "1135372    9          3          9         False           False   \n",
              "\n",
              "         Is_quarter_end  Is_quarter_start  Is_year_end  Is_year_start  \\\n",
              "434942            False             False        False          False   \n",
              "1370714           False             False        False          False   \n",
              "332109            False             False        False          False   \n",
              "259877            False             False        False          False   \n",
              "1135372           False             False        False          False   \n",
              "\n",
              "            Elapsed  \n",
              "434942   1328659200  \n",
              "1370714  1409616000  \n",
              "332109   1319760000  \n",
              "259877   1313539200  \n",
              "1135372  1389225600  "
            ]
          },
          "metadata": {
            "tags": []
          },
          "execution_count": 20
        }
      ]
    },
    {
      "cell_type": "markdown",
      "metadata": {
        "id": "m4yvnHjyvPbc"
      },
      "source": [
        "# Creating a Tabular Model using fast.ai\r\n",
        "\r\n",
        "Now that the data is organized properly, it can be used with the tabular fast.ai tools.\r\n",
        "\r\n",
        "https://docs.fast.ai/tabular.core.html\r\n"
      ]
    },
    {
      "cell_type": "code",
      "metadata": {
        "id": "Z_42e3n7VjEU"
      },
      "source": [
        "# Split the data into a train and validation set for learning\r\n",
        "splits = RandomSplitter(valid_pct=0.2)(range_of(df))"
      ],
      "execution_count": 21,
      "outputs": []
    },
    {
      "cell_type": "code",
      "metadata": {
        "id": "aOIvRSTfZqX_"
      },
      "source": [
        "# Function to automatic seperate columns into categorial and continouous categories based on data\r\n",
        "# https://docs.fast.ai/tabular.core.html#cont_cat_split\r\n",
        "cont_names, cat_names = cont_cat_split(df)\r\n",
        "cat_names.remove('label') # remove the label column"
      ],
      "execution_count": 22,
      "outputs": []
    },
    {
      "cell_type": "code",
      "metadata": {
        "id": "sxQFbxk6V7hJ"
      },
      "source": [
        "# Tabular object for pandas dataframes\r\n",
        "to = TabularPandas(df, procs=[Categorify, FillMissing, Normalize], \r\n",
        "                   cat_names=cat_names, \r\n",
        "                   cont_names=cont_names, \r\n",
        "                   y_names='label', \r\n",
        "                   splits=splits, \r\n",
        "                   y_block = CategoryBlock)"
      ],
      "execution_count": 23,
      "outputs": []
    },
    {
      "cell_type": "code",
      "metadata": {
        "id": "0nx5C0Msaut1"
      },
      "source": [
        "dls = to.dataloaders(bs=64)"
      ],
      "execution_count": 24,
      "outputs": []
    },
    {
      "cell_type": "code",
      "metadata": {
        "id": "9JVMzLTRdEky"
      },
      "source": [
        "learn = tabular_learner(dls, metrics=accuracy)"
      ],
      "execution_count": 25,
      "outputs": []
    },
    {
      "cell_type": "code",
      "metadata": {
        "colab": {
          "base_uri": "https://localhost:8080/",
          "height": 80
        },
        "id": "o-lTR6sIe435",
        "outputId": "5e76f59f-cf08-41c8-bfd2-506c61057f98"
      },
      "source": [
        "learn.fit_one_cycle(1)"
      ],
      "execution_count": 26,
      "outputs": [
        {
          "output_type": "display_data",
          "data": {
            "text/html": [
              "<table border=\"1\" class=\"dataframe\">\n",
              "  <thead>\n",
              "    <tr style=\"text-align: left;\">\n",
              "      <th>epoch</th>\n",
              "      <th>train_loss</th>\n",
              "      <th>valid_loss</th>\n",
              "      <th>accuracy</th>\n",
              "      <th>time</th>\n",
              "    </tr>\n",
              "  </thead>\n",
              "  <tbody>\n",
              "    <tr>\n",
              "      <td>0</td>\n",
              "      <td>0.098927</td>\n",
              "      <td>0.104077</td>\n",
              "      <td>0.960840</td>\n",
              "      <td>14:23</td>\n",
              "    </tr>\n",
              "  </tbody>\n",
              "</table>"
            ],
            "text/plain": [
              "<IPython.core.display.HTML object>"
            ]
          },
          "metadata": {
            "tags": []
          }
        }
      ]
    },
    {
      "cell_type": "code",
      "metadata": {
        "colab": {
          "base_uri": "https://localhost:8080/",
          "height": 620
        },
        "id": "aPlZBqB9hecb",
        "outputId": "4c2f8767-f7db-4cb7-deb7-fd47012780fb"
      },
      "source": [
        "interp = ClassificationInterpretation.from_learner(learn)\r\n",
        "interp.plot_confusion_matrix(figsize=(10,10), dpi=60)"
      ],
      "execution_count": 27,
      "outputs": [
        {
          "output_type": "display_data",
          "data": {
            "text/html": [
              ""
            ],
            "text/plain": [
              "<IPython.core.display.HTML object>"
            ]
          },
          "metadata": {
            "tags": []
          }
        },
        {
          "output_type": "display_data",
          "data": {
            "image/png": "[encoded data removed]",
            "text/plain": [
              "<Figure size 600x600 with 1 Axes>"
            ]
          },
          "metadata": {
            "tags": [],
            "needs_background": "light"
          }
        }
      ]
    }
  ]
}